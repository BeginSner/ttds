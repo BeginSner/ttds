{
 "cells": [
  {
   "cell_type": "code",
   "execution_count": 221,
   "metadata": {},
   "outputs": [],
   "source": [
    "import numpy as np\n",
    "import pandas as pd\n",
    "import matplotlib.pyplot as plt\n",
    "import xmltodict\n",
    "import pprint\n",
    "import re\n",
    "import time\n",
    "from gensim.parsing.preprocessing import remove_stopwords\n",
    "from nltk.stem import *\n",
    "%matplotlib inline\n",
    "plt.style.use('ggplot')"
   ]
  },
  {
   "cell_type": "code",
   "execution_count": 222,
   "metadata": {},
   "outputs": [],
   "source": [
    "with open('collections/trec.sample.xml', 'r', encoding='utf-8') as f:\n",
    "    xml_file = f.read()"
   ]
  },
  {
   "cell_type": "code",
   "execution_count": 223,
   "metadata": {},
   "outputs": [],
   "source": [
    "# load total text in the dict_file\n",
    "dict_file = xmltodict.parse(xml_file)\n",
    "dict_file = dict_file['document']['DOC']\n",
    "# pprint.pprint(dict_file[999]) # index not equal to DOCNO"
   ]
  },
  {
   "cell_type": "code",
   "execution_count": 224,
   "metadata": {},
   "outputs": [],
   "source": [
    "# dic['ID'] = HEADLINE + TEXT\n",
    "\n",
    "\n",
    "\n",
    "dic = {}\n",
    "for file in dict_file:\n",
    "    new_content = file['HEADLINE'] + ' ' + file['TEXT'] # for trec.sample.xml\n",
    "    # new_content = file['Text'] # for sample.xml\n",
    "    punct = re.compile(\"[^\\w\\s]\") # regax of token\n",
    "    new_content = re.sub(punct, \"\", new_content) # tokenisation\n",
    "    # new_content = new_content.lower() # make all text into lower case\n",
    "    new_content = remove_stopwords(new_content) # use gensim to remove sw\n",
    "    new_content = re.split('\\s+', new_content) # convert string to list for stemming; or can use string.split()\n",
    "    stemmer = SnowballStemmer(\"english\")\n",
    "    new_content = [stemmer.stem(word) if not word == stemmer.stem(word) else word for word in new_content] # stemming(include lower case)\n",
    "    new_content = ' '.join(new_content) # convert list to string for writing into file\n",
    "    dic['{}'.format(file['DOCNO'])] = new_content"
   ]
  },
  {
   "cell_type": "code",
   "execution_count": 225,
   "metadata": {},
   "outputs": [
    {
     "data": {
      "text/plain": [
       "19989"
      ]
     },
     "execution_count": 225,
     "metadata": {},
     "output_type": "execute_result"
    }
   ],
   "source": [
    "# find all uniq terms\n",
    "terms = {}\n",
    "for docno in dic:\n",
    "    for term in dic[docno].split():\n",
    "        if hash(term) not in terms:\n",
    "                terms[hash(term)] = term\n",
    "len(terms)"
   ]
  },
  {
   "cell_type": "code",
   "execution_count": 226,
   "metadata": {},
   "outputs": [],
   "source": [
    "# positional index implementation\n",
    "collection_dic = {}\n",
    "for term_hash in terms:\n",
    "    doc_dic = {}\n",
    "    for docno in dic:\n",
    "        # cannot use string.find() --> string index: char, list index: word(str)\n",
    "        pos_list = [index for index, word in enumerate(dic[docno].split()) if terms[term_hash] == word]\n",
    "        if len(pos_list):\n",
    "            doc_dic[docno] = pos_list\n",
    "    collection_dic[terms[term_hash]] = doc_dic"
   ]
  },
  {
   "cell_type": "code",
   "execution_count": 227,
   "metadata": {},
   "outputs": [],
   "source": [
    "import pickle\n",
    "import json\n",
    "# write into txt and binary file\n",
    "with open(\"collections/trec.english_stemmer.txt\", 'w') as f1:\n",
    "    f1.write(json.dumps(collection_dic))\n",
    "with open(\"collections/trec.english_stemmer.dat\", 'wb') as f2:\n",
    "    pickle.dump(collection_dic, f2)"
   ]
  },
  {
   "cell_type": "code",
   "execution_count": null,
   "metadata": {},
   "outputs": [],
   "source": []
  }
 ],
 "metadata": {
  "kernelspec": {
   "display_name": "Python 3.9.12 ('base')",
   "language": "python",
   "name": "python3"
  },
  "language_info": {
   "codemirror_mode": {
    "name": "ipython",
    "version": 3
   },
   "file_extension": ".py",
   "mimetype": "text/x-python",
   "name": "python",
   "nbconvert_exporter": "python",
   "pygments_lexer": "ipython3",
   "version": "3.9.12"
  },
  "orig_nbformat": 4,
  "vscode": {
   "interpreter": {
    "hash": "53a1c45876d37b93742cefcbccd0e028309dbdecc6e457f55650f19fbe3f8ebb"
   }
  }
 },
 "nbformat": 4,
 "nbformat_minor": 2
}
