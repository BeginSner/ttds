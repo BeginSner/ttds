{
 "cells": [
  {
   "cell_type": "code",
   "execution_count": 260,
   "metadata": {},
   "outputs": [],
   "source": [
    "from symbol import import_as_name\n",
    "import numpy as np\n",
    "import pandas as pd\n",
    "import matplotlib.pyplot as plt\n",
    "import json\n",
    "import pickle\n",
    "import re\n",
    "from nltk.stem import *\n",
    "from gensim.parsing.preprocessing import remove_stopwords\n",
    "from utils import *\n",
    "import xmltodict\n",
    "import pandas as pd\n",
    "import string\n",
    "%matplotlib inline\n",
    "plt.style.use('ggplot')"
   ]
  },
  {
   "cell_type": "code",
   "execution_count": 261,
   "metadata": {},
   "outputs": [
    {
     "data": {
      "text/plain": [
       "16"
      ]
     },
     "execution_count": 261,
     "metadata": {},
     "output_type": "execute_result"
    }
   ],
   "source": [
    "# load index into memory\n",
    "with open('collections/trec.english_stemmer.dat', 'rb') as f:\n",
    "    data = pickle.load(f)\n",
    "len(data)\n",
    "len(data['incom'].keys() & data['come'].keys() & data['like'].keys() )"
   ]
  },
  {
   "cell_type": "code",
   "execution_count": 262,
   "metadata": {},
   "outputs": [],
   "source": [
    "with open('collections/trec.sample.xml', 'r', encoding='utf-8') as f:\n",
    "    xml_file = f.read()\n",
    "# load total text in the dict_file\n",
    "dict_file = xmltodict.parse(xml_file)\n",
    "dict_file = dict_file['document']['DOC']\n",
    "N = len(dict_file)\n",
    "# pprint.pprint(dict_file[999]) # index not equal to DOCNO"
   ]
  },
  {
   "cell_type": "code",
   "execution_count": 263,
   "metadata": {},
   "outputs": [
    {
     "data": {
      "text/plain": [
       "[1, 1, 3]"
      ]
     },
     "execution_count": 263,
     "metadata": {},
     "output_type": "execute_result"
    }
   ],
   "source": [
    "def compute_tf(content, document, data):\n",
    "    terms = content.split()\n",
    "    tf_list = []\n",
    "    for t in terms:\n",
    "        tf = len(data[t][str(document)])\n",
    "        tf_list.append(tf)\n",
    "    return tf_list\n",
    "\n",
    "def compute_df(content, data):\n",
    "    terms = content.split()\n",
    "    df_list = []\n",
    "    for t in terms:\n",
    "        df = len(data[t])\n",
    "        df_list.append(df)\n",
    "    return df_list\n",
    "\n",
    "\n",
    "    \n",
    "\n",
    "content = 'middl east peac'\n",
    "res = compute_tf(content, '219', data)\n",
    "res\n",
    "\n"
   ]
  },
  {
   "cell_type": "code",
   "execution_count": 264,
   "metadata": {},
   "outputs": [
    {
     "data": {
      "text/plain": [
       "array([['3549', '7.1810539886606755'],\n",
       "       ['305', '6.975317638790024'],\n",
       "       ['288', '6.7995569814859165'],\n",
       "       ['223', '6.022628887325533'],\n",
       "       ['219', '4.947500168980254'],\n",
       "       ['3762', '4.947500168980254'],\n",
       "       ['3663', '4.626325782384706'],\n",
       "       ['3766', '4.07727454200674']], dtype='<U32')"
      ]
     },
     "execution_count": 264,
     "metadata": {},
     "output_type": "execute_result"
    }
   ],
   "source": [
    "def retrival_search(content, data, N):\n",
    "    doc_dic, sentence = search(content, data)\n",
    "    w_matrix = np.zeros((len(sentence.split()), len(doc_dic)))\n",
    "    df = compute_df(sentence, data)\n",
    "    # df = np.array(df)[:,None]\n",
    "    for column, doc in enumerate(doc_dic):\n",
    "        tf = compute_tf(sentence, doc, data)\n",
    "        # tf = np.array(tf)[:,None]\n",
    "        w_matrix[:,column] = (1 + np.log10(tf))*(np.log10(N)-np.log10(df))\n",
    "    score_q = np.sum(w_matrix,axis=0)[:,None]\n",
    "    doc_array = np.array([doc for doc in doc_dic])[:,None]\n",
    "    score_q = np.concatenate((doc_array, score_q), axis=1)\n",
    "    score_q = score_q[score_q[:,1].argsort()][::-1]\n",
    "    return score_q\n",
    "content = '\"middle east\" AND peace'\n",
    "\n",
    "retrival_search(content, data, N)\n",
    "        "
   ]
  },
  {
   "cell_type": "code",
   "execution_count": 265,
   "metadata": {},
   "outputs": [
    {
     "data": {
      "text/plain": [
       "['income tax reduction',\n",
       " 'peace in the Middle East',\n",
       " 'unemployment rate in UK',\n",
       " 'industry in scotland',\n",
       " 'the industries of computers',\n",
       " 'Microsoft Windows',\n",
       " 'stock market in Japan',\n",
       " 'the education with computers',\n",
       " 'health industry',\n",
       " 'campaigns of political parties']"
      ]
     },
     "execution_count": 265,
     "metadata": {},
     "output_type": "execute_result"
    }
   ],
   "source": [
    "def process_query(query_path):\n",
    "    punct = re.compile(\"[^\\w\\s]\") # regax of token\n",
    "    with open(query_path, 'r', encoding='utf-8') as f:\n",
    "        querys = f.readlines()\n",
    "    query_list = []\n",
    "    for line in querys:\n",
    "        line = re.split(r\"^\\d{1,}\", line)[1]\n",
    "        line = re.split(r\"$[\\n]\", line)[0]\n",
    "        line = re.sub(punct, \"\", line) # tokenization\n",
    "        line = line.strip()\n",
    "        query_list.append(line)\n",
    "    return query_list\n",
    "        \n",
    "    \n",
    "query_path = 'querys.txt'\n",
    "process_query(query_path)"
   ]
  },
  {
   "cell_type": "code",
   "execution_count": 266,
   "metadata": {},
   "outputs": [
    {
     "data": {
      "text/plain": [
       "[[1, '65', 5.266347855213409],\n",
       " [1, '3533', 5.1829337881155215],\n",
       " [1, '3562', 3.8102158712166783],\n",
       " [1, '361', 3.5341067552200993],\n",
       " [1, '141', 3.5341067552200993],\n",
       " [1, '3608', 3.485384803595027],\n",
       " [1, '3599', 3.1705804307459706],\n",
       " [1, '3387', 3.1705804307459706],\n",
       " [1, '3829', 3.1705804307459706],\n",
       " [2, '3549', 7.1810539886606755],\n",
       " [2, '305', 6.975317638790024],\n",
       " [2, '288', 6.799556981485917],\n",
       " [2, '223', 6.022628887325533],\n",
       " [2, '219', 4.947500168980254],\n",
       " [2, '3762', 4.947500168980254],\n",
       " [2, '3663', 4.626325782384706],\n",
       " [2, '3766', 4.07727454200674],\n",
       " [3, '3354', 4.619687808799235],\n",
       " [3, '3345', 4.512580806697169],\n",
       " [3, '268', 3.5844170407006892],\n",
       " [3, '328', 3.5048378185057216],\n",
       " [3, '21', 3.4207444223145487],\n",
       " [3, '304', 3.3939997977728997],\n",
       " [3, '313', 3.364704376161913],\n",
       " [3, '55', 3.0639336602268776],\n",
       " [3, '3789', 2.726253988972256],\n",
       " [3, '3506', 2.656960447518389],\n",
       " [3, '3653', 2.513201837201487],\n",
       " [3, '46', 2.513201837201487],\n",
       " [4, '3938', 3.230598089758382],\n",
       " [4, '351', 3.2304901765787575],\n",
       " [4, '3334', 2.8356485565728597],\n",
       " [4, '3932', 2.416929071692897],\n",
       " [4, '3826', 2.2638136845932935],\n",
       " [4, '3820', 2.2638136845932935],\n",
       " [4, '370', 2.1106982974936894],\n",
       " [4, '272', 2.1106982974936894],\n",
       " [4, '3629', 2.1106982974936894],\n",
       " [4, '3338', 2.1106982974936894],\n",
       " [4, '143', 2.1106982974936894],\n",
       " [5, '3933', 3.88910532659353],\n",
       " [5, '3936', 3.749639899651993],\n",
       " [5, '3935', 3.5697689646112987],\n",
       " [5, '3926', 3.4057187102285345],\n",
       " [5, '3937', 3.3206504955523375],\n",
       " [5, '3924', 3.243243857608224],\n",
       " [5, '3928', 3.1937181217627817],\n",
       " [5, '3919', 3.1796952302452928],\n",
       " [5, '129', 3.0987955951956003],\n",
       " [5, '140', 3.0963532570634635],\n",
       " [5, '3929', 3.0905945742949257],\n",
       " [5, '135', 3.0875254367257132],\n",
       " [5, '3912', 3.05802851104373],\n",
       " [5, '133', 2.999414411646886],\n",
       " [5, '139', 2.983702194493026],\n",
       " [5, '3938', 2.983702194493026],\n",
       " [5, '131', 2.84791242745865],\n",
       " [5, '138', 2.808337507353726],\n",
       " [5, '3908', 2.7788405816717425],\n",
       " [5, '3927', 2.7535580734624356],\n",
       " [5, '3921', 2.702998061259721],\n",
       " [5, '3931', 2.6353182510713715],\n",
       " [5, '3914', 2.613431301523049],\n",
       " [5, '30', 2.551274709758675],\n",
       " [5, '3906', 2.511699789653751],\n",
       " [5, '3925', 2.502106733154519],\n",
       " [5, '3910', 2.502106733154519],\n",
       " [5, '3911', 2.448151162290819],\n",
       " [5, '3920', 2.4330348873676115],\n",
       " [5, '3916', 2.3585844025541474],\n",
       " [5, '3909', 2.3585844025541474],\n",
       " [5, '137', 2.3585844025541474],\n",
       " [5, '3917', 2.348991346054915],\n",
       " [5, '3915', 2.2832334126399436],\n",
       " [5, '3716', 2.245867798587059],\n",
       " [5, '136', 2.2054690154545438],\n",
       " [5, '3918', 2.2054690154545438],\n",
       " [5, '3930', 2.2054690154545438],\n",
       " [5, '3913', 2.1563010388503874],\n",
       " [5, '3506', 2.1563010388503874],\n",
       " [5, '3944', 2.0031856517507833],\n",
       " [5, '3932', 1.9636107316458595],\n",
       " [5, '3379', 1.9636107316458595],\n",
       " [5, '3907', 1.9000621042829278],\n",
       " [5, '3923', 1.810495344546256],\n",
       " [5, '141', 1.810495344546256],\n",
       " [5, '14', 1.810495344546256],\n",
       " [5, '132', 1.6573799574466521],\n",
       " [5, '3598', 1.6573799574466521],\n",
       " [5, '3734', 1.6573799574466521],\n",
       " [5, '3431', 1.6573799574466521],\n",
       " [5, '3922', 1.6573799574466521],\n",
       " [5, '202', 1.6573799574466521],\n",
       " [5, '134', 1.6573799574466521],\n",
       " [5, '171', 1.6573799574466521],\n",
       " [5, '3934', 1.6573799574466521],\n",
       " [6, '59', 8.303590176952293],\n",
       " [6, '3906', 6.42275752949009],\n",
       " [6, '30', 5.101102806453914],\n",
       " [6, '3910', 4.469869994330341],\n",
       " [7, '3693', 3.5815134250512006],\n",
       " [7, '3459', 3.4826484136913933],\n",
       " [7, '287', 3.4193320417931745],\n",
       " [7, '21', 3.3624296219411263],\n",
       " [7, '3416', 3.357261429957335],\n",
       " [7, '3570', 3.230267749050931],\n",
       " [7, '3797', 3.1651816380290763],\n",
       " [7, '146', 2.9464201380178414],\n",
       " [7, '3584', 2.9463098256372833],\n",
       " [7, '134', 2.8459451232431237],\n",
       " [7, '327', 2.6261359489993685],\n",
       " [7, '3494', 2.6261359489993685],\n",
       " [7, '139', 2.5860721193174125],\n",
       " [7, '3449', 2.4616224974353162],\n",
       " [7, '165', 2.33717287555322],\n",
       " [8, '3928', 5.740103969159323],\n",
       " [8, '135', 3.614390990941269],\n",
       " [8, '3914', 3.446527629937812],\n",
       " [8, '3856', 3.4393920628098114],\n",
       " [8, '3915', 2.6435916729610187],\n",
       " [8, '171', 2.6435916729610187],\n",
       " [9, '351', 3.0717695357335972],\n",
       " [9, '129', 2.6557562931036096],\n",
       " [9, '3370', 2.502640906004006],\n",
       " [9, '101', 2.413074146267334],\n",
       " [9, '3443', 2.3727995313975785],\n",
       " [9, '38', 2.2599587591677306],\n",
       " [9, '3409', 2.1703919994310583],\n",
       " [9, '3392', 2.0172766123314547],\n",
       " [9, '3407', 2.0172766123314547],\n",
       " [9, '173', 2.0172766123314547],\n",
       " [9, '3510', 2.0172766123314547],\n",
       " [9, '134', 2.0172766123314547],\n",
       " [9, '241', 2.0172766123314547],\n",
       " [9, '3732', 2.0172766123314547],\n",
       " [10, '3524', 4.853178986951871],\n",
       " [10, '3876', 4.78289785873518],\n",
       " [10, '3527', 4.598210548107826],\n",
       " [10, '3446', 4.238429567951851],\n",
       " [10, '3920', 3.98878151599608],\n",
       " [10, '3374', 3.952600233634337],\n",
       " [10, '3899', 3.6840414369326586],\n",
       " [10, '66', 3.6203898517156223],\n",
       " [10, '3412', 3.4516121749704105],\n",
       " [10, '3751', 3.1744181094608144],\n",
       " [10, '188', 3.1744181094608144]]"
      ]
     },
     "execution_count": 266,
     "metadata": {},
     "output_type": "execute_result"
    }
   ],
   "source": [
    "def query_search(query_path, data):\n",
    "    query_list = process_query(query_path)\n",
    "    rank_table = []\n",
    "    for index, query in enumerate(query_list):\n",
    "        score_q = retrival_search(query, data, N)\n",
    "        for score_qd in score_q:\n",
    "            rank_table.append([index+1, str(score_qd[0]), float(score_qd[1])])\n",
    "    return rank_table\n",
    "query_path = 'querys.txt'\n",
    "query_search(query_path, data)"
   ]
  },
  {
   "cell_type": "code",
   "execution_count": 267,
   "metadata": {},
   "outputs": [],
   "source": [
    "def write_query_results(results, path):\n",
    "    with open(path, 'w', encoding='utf-8') as f:\n",
    "        for line in results:\n",
    "            f.write(str(line)[1:-1]+'\\n')\n",
    "result_path = 'tfidf.results'\n",
    "results = query_search(query_path,data)\n",
    "write_query_results(results, result_path)"
   ]
  }
 ],
 "metadata": {
  "kernelspec": {
   "display_name": "Python 3.9.12 ('base')",
   "language": "python",
   "name": "python3"
  },
  "language_info": {
   "codemirror_mode": {
    "name": "ipython",
    "version": 3
   },
   "file_extension": ".py",
   "mimetype": "text/x-python",
   "name": "python",
   "nbconvert_exporter": "python",
   "pygments_lexer": "ipython3",
   "version": "3.9.12"
  },
  "orig_nbformat": 4,
  "vscode": {
   "interpreter": {
    "hash": "53a1c45876d37b93742cefcbccd0e028309dbdecc6e457f55650f19fbe3f8ebb"
   }
  }
 },
 "nbformat": 4,
 "nbformat_minor": 2
}
